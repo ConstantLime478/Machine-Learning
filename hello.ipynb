{
 "cells": [
  {
   "cell_type": "code",
   "execution_count": 1,
   "id": "5f5a2def",
   "metadata": {},
   "outputs": [
    {
     "name": "stdout",
     "output_type": "stream",
     "text": [
      "Jupyter is working in VS Code!\n"
     ]
    }
   ],
   "source": [
    "print(\"Jupyter is working in VS Code!\")"
   ]
  },
  {
   "cell_type": "code",
   "execution_count": 3,
   "id": "c0cd7067",
   "metadata": {},
   "outputs": [
    {
     "ename": "Terminator",
     "evalue": "",
     "output_type": "error",
     "traceback": [
      "\u001b[31m---------------------------------------------------------------------------\u001b[39m",
      "\u001b[31mTerminator\u001b[39m                                Traceback (most recent call last)",
      "\u001b[36mCell\u001b[39m\u001b[36m \u001b[39m\u001b[32mIn[3]\u001b[39m\u001b[32m, line 29\u001b[39m\n\u001b[32m     26\u001b[39m \u001b[38;5;66;03m# Section 4) Wrap-up\u001b[39;00m\n\u001b[32m     27\u001b[39m \u001b[38;5;66;03m# Tell the Turtle to stop accepting commands\u001b[39;00m\n\u001b[32m     28\u001b[39m turtle.done()\n\u001b[32m---> \u001b[39m\u001b[32m29\u001b[39m \u001b[43mturtle\u001b[49m\u001b[43m.\u001b[49m\u001b[43mbye\u001b[49m\u001b[43m(\u001b[49m\u001b[43m)\u001b[49m\n",
      "\u001b[36mFile \u001b[39m\u001b[32m<string>:5\u001b[39m, in \u001b[36mbye\u001b[39m\u001b[34m()\u001b[39m\n",
      "\u001b[31mTerminator\u001b[39m: "
     ]
    }
   ],
   "source": [
    "'''\n",
    "Section 1) Documentation\n",
    "\n",
    "This program generates a drawing of ___________________________________________\n",
    "______________________________________________________________________________.\n",
    "\n",
    "I have neither given nor received unauthorized assistance on this assignment.\n",
    "Signed: _______________________________\n",
    "'''\n",
    "\n",
    "# Section 2) Set-up\n",
    "# Import the turtle library\n",
    "import turtle\n",
    "# Setup the graphics window\n",
    "turtle.setup(500, 500, None, None)\n",
    "turtle.title(\"Turtle Window\")\n",
    "turtle.reset()\n",
    "\n",
    "# Section 3) Drawing\n",
    "# Your code goes here\n",
    "turtle.pen('green')\n",
    "turtle.forward(100)\n",
    "turtle.right(90)\n",
    "turtle.forward(100)\n",
    "\n",
    "# Section 4) Wrap-up\n",
    "# Tell the Turtle to stop accepting commands\n",
    "turtle.done()\n",
    "turtle.bye()"
   ]
  },
  {
   "cell_type": "markdown",
   "id": "85f29d7a",
   "metadata": {},
   "source": []
  }
 ],
 "metadata": {
  "kernelspec": {
   "display_name": ".venv",
   "language": "python",
   "name": "python3"
  },
  "language_info": {
   "codemirror_mode": {
    "name": "ipython",
    "version": 3
   },
   "file_extension": ".py",
   "mimetype": "text/x-python",
   "name": "python",
   "nbconvert_exporter": "python",
   "pygments_lexer": "ipython3",
   "version": "3.13.5"
  }
 },
 "nbformat": 4,
 "nbformat_minor": 5
}
